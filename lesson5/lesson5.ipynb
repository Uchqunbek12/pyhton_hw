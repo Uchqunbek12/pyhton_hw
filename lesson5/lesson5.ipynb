{
 "cells": [
  {
   "cell_type": "markdown",
   "metadata": {},
   "source": [
    "https://csiplearninghub.com/python-if-else-conditional-statement-practice/"
   ]
  },
  {
   "cell_type": "code",
   "execution_count": 25,
   "metadata": {},
   "outputs": [],
   "source": [
    "TEST 1\n",
    "#Q1\n",
    "#if\n",
    "#Q2\n",
    "#if <conditation> :\n",
    "    #execute\n"
   ]
  },
  {
   "cell_type": "code",
   "execution_count": null,
   "metadata": {},
   "outputs": [
    {
     "name": "stdout",
     "output_type": "stream",
     "text": [
      "siz ovoz bermaysiz\n"
     ]
    }
   ],
   "source": [
    "#Q4\n",
    "age3=int(input('yosh?'))\n",
    "if age3>=18:\n",
    "    print('siz ovoz berasz');\n",
    "else:\n",
    "    print('siz ovoz bermaysiz')"
   ]
  },
  {
   "cell_type": "code",
   "execution_count": 33,
   "metadata": {},
   "outputs": [
    {
     "name": "stdout",
     "output_type": "stream",
     "text": [
      "bu son juft\n"
     ]
    }
   ],
   "source": [
    "#Q5\n",
    "num5=int(input('number?'))\n",
    "if num5%2==0:\n",
    "    print('bu son juft')\n",
    "else:\n",
    "    print('bu son toq')"
   ]
  },
  {
   "cell_type": "code",
   "execution_count": null,
   "metadata": {},
   "outputs": [
    {
     "name": "stdout",
     "output_type": "stream",
     "text": [
      "7 ga bolinadi\n"
     ]
    }
   ],
   "source": [
    "#Q6\n",
    "num6=int(input('number?'))\n",
    "if num6%7==0:\n",
    "    print('7 ga bolinadi')\n",
    "else:\n",
    "    print('7 ga bolinmaydi')"
   ]
  },
  {
   "cell_type": "code",
   "execution_count": 36,
   "metadata": {},
   "outputs": [
    {
     "name": "stdout",
     "output_type": "stream",
     "text": [
      "hello\n"
     ]
    }
   ],
   "source": [
    "#Q7\n",
    "num7 = int(input('number?'))\n",
    "if num7%5==0:\n",
    "    print('hello')\n",
    "else:\n",
    "    print('bye-bye')"
   ]
  },
  {
   "cell_type": "code",
   "execution_count": 60,
   "metadata": {},
   "outputs": [
    {
     "name": "stdout",
     "output_type": "stream",
     "text": [
      "to'lashingiz kerak: 2000\n"
     ]
    }
   ],
   "source": [
    "#Q8\n",
    "a7=int(input('number?'))\n",
    "amount=0\n",
    "if a7<100  :\n",
    "     amount=a7*0\n",
    "elif a7>=100 and a7<200 :\n",
    "    amount=(a7-100)*5\n",
    "elif a7>=200 :\n",
    "      amount=500+(a7-200)*10;\n",
    "print(f'to\\'lashingiz kerak: {amount}')\n"
   ]
  },
  {
   "cell_type": "code",
   "execution_count": 61,
   "metadata": {},
   "outputs": [
    {
     "data": {
      "text/plain": [
       "1"
      ]
     },
     "execution_count": 61,
     "metadata": {},
     "output_type": "execute_result"
    }
   ],
   "source": [
    "#Q9\n",
    "num9=int(input('number?'))\n",
    "num9%10\n"
   ]
  },
  {
   "cell_type": "code",
   "execution_count": 64,
   "metadata": {},
   "outputs": [
    {
     "name": "stdout",
     "output_type": "stream",
     "text": [
      "bo'lindi\n"
     ]
    }
   ],
   "source": [
    "#Q10\n",
    "num10=int(input('number?'))\n",
    "qol10=num10%10\n",
    "if qol10%3==0:\n",
    "    print('bo\\'lindi')\n",
    "else:\n",
    "    print('bo\\'linmadi')"
   ]
  },
  {
   "cell_type": "markdown",
   "metadata": {},
   "source": [
    "TEST2"
   ]
  },
  {
   "cell_type": "code",
   "execution_count": 65,
   "metadata": {},
   "outputs": [
    {
     "name": "stdout",
     "output_type": "stream",
     "text": [
      "A\n"
     ]
    }
   ],
   "source": [
    "#Q1\n",
    "ball1=int(input('number?'))\n",
    "if ball1>90:\n",
    "    print('A');\n",
    "elif ball1<=90 and ball1>80:\n",
    "    print('B');\n",
    "elif ball1>=60 and ball1<=80:\n",
    "    print('C');\n",
    "else:\n",
    "    print('bellow 60')\n"
   ]
  },
  {
   "cell_type": "code",
   "execution_count": 66,
   "metadata": {},
   "outputs": [
    {
     "name": "stdout",
     "output_type": "stream",
     "text": [
      "soliq {10000.0}\n"
     ]
    }
   ],
   "source": [
    "#Q2\n",
    "price2=int(input('number?'))\n",
    "c=0\n",
    "if price2>100000:\n",
    "    c=price2*0.15\n",
    "elif price2>50000 and price2<=100000:\n",
    "    c=price2*0.1;\n",
    "else:\n",
    "    c=price2*0.05;\n",
    "print(f'soliq',{c})"
   ]
  },
  {
   "cell_type": "code",
   "execution_count": 70,
   "metadata": {},
   "outputs": [
    {
     "name": "stdout",
     "output_type": "stream",
     "text": [
      "thursday\n"
     ]
    }
   ],
   "source": [
    "#Q3 tushunarsz \n",
    "#Q4\n",
    "day3=int(input('number?'))\n",
    "if day3==1:\n",
    "    print('sunday');\n",
    "elif day3==2:\n",
    "    print('monday');\n",
    "elif day3==3:\n",
    "    print('thusday');\n",
    "elif day3==4:\n",
    "    print('wednesday');\n",
    "elif day3==5:\n",
    "    print('thursday');\n",
    "elif day3==6:\n",
    "    print('friday');\n",
    "elif day3==7:\n",
    "    print('saturday');\n",
    "else:\n",
    "    print('1dan 7 gacha faqat')"
   ]
  },
  {
   "cell_type": "code",
   "execution_count": 74,
   "metadata": {},
   "outputs": [
    {
     "name": "stdout",
     "output_type": "stream",
     "text": [
      "aprel\n"
     ]
    }
   ],
   "source": [
    "#Q5\n",
    "month5=int(input('number?'))\n",
    "if month5==1:\n",
    "    print('yanvar');\n",
    "elif month5==2:\n",
    "    print('fevral');\n",
    "elif month5==3:\n",
    "    print('mart');\n",
    "elif month5==4:\n",
    "    print('aprel');\n",
    "elif month5==5:\n",
    "    print('may');\n",
    "elif month5==6:\n",
    "    print('iyun');\n",
    "elif month5==7:\n",
    "    print('iyul');\n",
    "elif month5==8:\n",
    "    print('avgust');\n",
    "elif month5==9:\n",
    "    print('sentabr');\n",
    "elif month5==10:\n",
    "    print('oktabr');\n",
    "elif month5==11:\n",
    "    print('noyabr');\n",
    "elif month5==12:\n",
    "    print('dekabr');\n",
    "else:\n",
    "    print('1 dan 12 gacha faqat')"
   ]
  },
  {
   "cell_type": "code",
   "execution_count": null,
   "metadata": {},
   "outputs": [],
   "source": [
    "#Q8 \n",
    "A>B and C>D"
   ]
  },
  {
   "cell_type": "code",
   "execution_count": 75,
   "metadata": {},
   "outputs": [
    {
     "name": "stdout",
     "output_type": "stream",
     "text": [
      "Read Ford\n"
     ]
    }
   ],
   "source": [
    "city=input('enter city?')\n",
    "if city=='dehli':\n",
    "    print('Read Ford');\n",
    "elif city=='agra':\n",
    "    print('Taj Mahal');\n",
    "elif city=='jaipur':\n",
    "    print('Jal Mahal');"
   ]
  },
  {
   "cell_type": "code",
   "execution_count": 86,
   "metadata": {},
   "outputs": [
    {
     "name": "stdout",
     "output_type": "stream",
     "text": [
      "hello\n"
     ]
    }
   ],
   "source": [
    "#Q10\n",
    "a10=9\n",
    "if a10>5 and a10<=1010:\n",
    "    print('hello');\n",
    "else:\n",
    "    print('bye')"
   ]
  },
  {
   "cell_type": "markdown",
   "metadata": {},
   "source": [
    "TEST3"
   ]
  },
  {
   "cell_type": "code",
   "execution_count": 89,
   "metadata": {},
   "outputs": [
    {
     "name": "stdout",
     "output_type": "stream",
     "text": [
      "bu uch xonali son\n"
     ]
    }
   ],
   "source": [
    "#Q1\n",
    "num1=(input('entuer number?'))\n",
    "aa=len(num1)\n",
    "if aa==3 :\n",
    "    print('bu uch xonali son');\n",
    "else :\n",
    "    print('bu 3 xonali son emas')"
   ]
  },
  {
   "cell_type": "code",
   "execution_count": 90,
   "metadata": {},
   "outputs": [
    {
     "name": "stdout",
     "output_type": "stream",
     "text": [
      "siz ovoz bera olasiz\n"
     ]
    }
   ],
   "source": [
    "#Q2\n",
    "age2=int(input('your age?'))\n",
    "if age2>=18 :\n",
    "    print('siz ovoz bera olasiz')\n",
    "else:\n",
    "    print ('sizning yoshingiz 18 dan kichik')"
   ]
  },
  {
   "cell_type": "code",
   "execution_count": 91,
   "metadata": {},
   "outputs": [
    {
     "name": "stdout",
     "output_type": "stream",
     "text": [
      "siz keksa yoshsiz!\n"
     ]
    }
   ],
   "source": [
    "#Q3\n",
    "age33=int(input('enter your age:'))\n",
    "if age33>=60:\n",
    "    print('siz keksa yoshsiz!')"
   ]
  },
  {
   "cell_type": "code",
   "execution_count": 94,
   "metadata": {},
   "outputs": [
    {
     "name": "stdout",
     "output_type": "stream",
     "text": [
      "1-son katta\n"
     ]
    }
   ],
   "source": [
    "#Q4\n",
    "int1=int(input(\"first number\"))\n",
    "int2=int(input(\"second number\"))\n",
    "if int1>int2:\n",
    "    print(\"2-son kichik\");\n",
    "else: \n",
    "    print('1-son kichik')"
   ]
  },
  {
   "cell_type": "code",
   "execution_count": 95,
   "metadata": {},
   "outputs": [
    {
     "name": "stdout",
     "output_type": "stream",
     "text": [
      "2-son katta\n"
     ]
    }
   ],
   "source": [
    "#Q5\n",
    "int1=int(input(\"first number\"))\n",
    "int2=int(input(\"second number\"))\n",
    "if int1>int2:\n",
    "    print(\"1-son katta\");\n",
    "else: \n",
    "    print('2-son katta')"
   ]
  },
  {
   "cell_type": "code",
   "execution_count": 96,
   "metadata": {},
   "outputs": [
    {
     "name": "stdout",
     "output_type": "stream",
     "text": [
      "positive\n"
     ]
    }
   ],
   "source": [
    "#Q6\n",
    "num36=int(input('enter num'))\n",
    "if num36>0:\n",
    "    print('positive');\n",
    "elif num36==0:\n",
    "    print('zero');\n",
    "else :\n",
    "    print('negative')"
   ]
  },
  {
   "cell_type": "code",
   "execution_count": 97,
   "metadata": {},
   "outputs": [
    {
     "name": "stdout",
     "output_type": "stream",
     "text": [
      "even\n"
     ]
    }
   ],
   "source": [
    "#Q7\n",
    "num37=int(input('enter num'))\n",
    "if num37%2==0:\n",
    "    print ('even');\n",
    "else:\n",
    "    print('odd')"
   ]
  },
  {
   "cell_type": "code",
   "execution_count": 98,
   "metadata": {},
   "outputs": [
    {
     "name": "stdout",
     "output_type": "stream",
     "text": [
      "number is divisible 2 and 3 both\n"
     ]
    }
   ],
   "source": [
    "#Q8\n",
    "num38=int(input('numnber0'))\n",
    "if num38%2==0 and num38%3==0:\n",
    "    print(\"number is divisible 2 and 3 both\")\n",
    "else:\n",
    "    print('number is not divisible 2 and 3 both')"
   ]
  },
  {
   "cell_type": "code",
   "execution_count": 101,
   "metadata": {},
   "outputs": [
    {
     "name": "stdout",
     "output_type": "stream",
     "text": [
      "nu3\n"
     ]
    }
   ],
   "source": [
    "#Q9\n",
    "nu1=int(input('enter number'))\n",
    "nu2=int(input('enter number'))\n",
    "nu3=int(input('enter number'))\n",
    "if nu1>nu2 and nu1>nu3:\n",
    "    print('nu1');\n",
    "elif nu2>nu1 and nu2>nu3:\n",
    "    print ('nu2')\n",
    "else: \n",
    "    print('nu3')"
   ]
  },
  {
   "cell_type": "markdown",
   "metadata": {},
   "source": [
    "TEST4"
   ]
  },
  {
   "cell_type": "code",
   "execution_count": 102,
   "metadata": {},
   "outputs": [
    {
     "name": "stdout",
     "output_type": "stream",
     "text": [
      "this is water boiling\n"
     ]
    }
   ],
   "source": [
    "#Q1\n",
    "num41=int(input('water celsius?'))\n",
    "if num41>=100:\n",
    "    print(\"this is water boiling\");\n",
    "else:\n",
    "    print(\"this is not water boiling\")"
   ]
  },
  {
   "cell_type": "code",
   "execution_count": 105,
   "metadata": {},
   "outputs": [
    {
     "name": "stdout",
     "output_type": "stream",
     "text": [
      "age of oldest person is 2\n"
     ]
    }
   ],
   "source": [
    "#Q6\n",
    "age40=int(input('enter age!'))\n",
    "age41=int(input('enter age!'))\n",
    "age42=int(input('enter age!'))\n",
    "age43=int(input('enter age!'))\n",
    "if age40<age41 and age40<age42 and age40<age43:\n",
    "    print('age of oldest person is 1');\n",
    "elif age41<age40 and age41<age42 and age41<age43:\n",
    "    print('age of oldest person is 2');\n",
    "elif age42<age40 and age42<age41 and age42<age43:\n",
    "    print ('age of oldest prsen is 3');\n",
    "else:\n",
    "    print('age of oldest person if 4')"
   ]
  },
  {
   "cell_type": "code",
   "execution_count": 106,
   "metadata": {},
   "outputs": [
    {
     "name": "stdout",
     "output_type": "stream",
     "text": [
      "age of oldest person if 4\n"
     ]
    }
   ],
   "source": [
    "#q8\n",
    "age40=int(input('enter age!'))\n",
    "age41=int(input('enter age!'))\n",
    "age42=int(input('enter age!'))\n",
    "age43=int(input('enter age!'))\n",
    "if age40>age41 and age40>age42 and age40>age43:\n",
    "    print('age of oldest person is 1');\n",
    "elif age41>age40 and age41>age42 and age41>age43:\n",
    "    print('age of oldest person is 2');\n",
    "elif age42>age40 and age42>age41 and age42>age43:\n",
    "    print ('age of oldest prsen is 3');\n",
    "else:\n",
    "    print('age of oldest person if 4')"
   ]
  },
  {
   "cell_type": "code",
   "execution_count": 109,
   "metadata": {},
   "outputs": [
    {
     "name": "stdout",
     "output_type": "stream",
     "text": [
      "vowel\n"
     ]
    }
   ],
   "source": [
    "#q9\n",
    "char=input('?')\n",
    "wow = ('aeiouAEUIO')\n",
    "if char in wow:\n",
    "    print ('vowel')\n",
    "else:\n",
    "    print ('not vowel')"
   ]
  },
  {
   "cell_type": "markdown",
   "metadata": {},
   "source": [
    "TEST 5"
   ]
  },
  {
   "cell_type": "code",
   "execution_count": 114,
   "metadata": {},
   "outputs": [
    {
     "name": "stdout",
     "output_type": "stream",
     "text": [
      "imtihonda qatnasha olmaysiz!\n"
     ]
    }
   ],
   "source": [
    "#Q1\n",
    "wday=int(input('total number of work days'))\n",
    "nday=int(input('total number od=f days for absent'))\n",
    "if (100-nday/wday*100)>=75 :\n",
    "    print ('imtihonga marhamat');\n",
    "else:\n",
    "    print('imtihonda qatnasha olmaysiz!')"
   ]
  },
  {
   "cell_type": "code",
   "execution_count": 117,
   "metadata": {},
   "outputs": [
    {
     "name": "stdout",
     "output_type": "stream",
     "text": [
      "A+\n"
     ]
    }
   ],
   "source": [
    "#Q2\n",
    "num52=int(input('enter ball?'))\n",
    "if num52>=80:\n",
    "    print('A+');\n",
    "elif num52>=60 and num52<80:\n",
    "    print('A');\n",
    "elif num52>=50 and num52<60:\n",
    "    print('B+');\n",
    "elif num52>=45 and num52<50:\n",
    "    print('B');\n",
    "elif num52>=25 and num52<45:\n",
    "    print('C');\n",
    "else:\n",
    "    print('D')"
   ]
  },
  {
   "cell_type": "code",
   "execution_count": 123,
   "metadata": {},
   "outputs": [
    {
     "name": "stdout",
     "output_type": "stream",
     "text": [
      "500.0\n"
     ]
    }
   ],
   "source": [
    "#Q3\n",
    "wyear=int(input('Work year?'))\n",
    "salary=int(input('maosh?'))\n",
    "bonus=0\n",
    "if wyear>10:\n",
    "    bonus=salary*10/100 ;\n",
    "elif wyear>=6 and wyear<=10:\n",
    "    bonus=salary*8/100 ;\n",
    "elif wyear<6:\n",
    "    bonus=salary*5/100 ;\n",
    "print(bonus)"
   ]
  },
  {
   "cell_type": "code",
   "execution_count": 124,
   "metadata": {},
   "outputs": [
    {
     "name": "stdout",
     "output_type": "stream",
     "text": [
      "8800.0\n"
     ]
    }
   ],
   "source": [
    "#Q4\n",
    "price4=int(input('price?'))\n",
    "b4=0\n",
    "if price4>10000:\n",
    "   b4= price4*80/100;\n",
    "elif price4>7000 and price4<=10000:\n",
    "    b4= price4*85/100;\n",
    "elif price4<=7000:\n",
    "   b4= price4*90/100;\n",
    "print(b4)"
   ]
  },
  {
   "cell_type": "code",
   "execution_count": 125,
   "metadata": {},
   "outputs": [
    {
     "name": "stdout",
     "output_type": "stream",
     "text": [
      "excellent\n"
     ]
    }
   ],
   "source": [
    "#Q5\n",
    "per=int(input())\n",
    "tot=0\n",
    "if per<40:\n",
    "    print('failed');\n",
    "elif per>=40 and per<55:\n",
    "    print('fair');\n",
    "elif per>=55 and per<65:\n",
    "    print(\"good\")\n",
    "else:\n",
    "    print('excellent')"
   ]
  },
  {
   "cell_type": "code",
   "execution_count": 126,
   "metadata": {},
   "outputs": [
    {
     "name": "stdout",
     "output_type": "stream",
     "text": [
      "teng yonli\n"
     ]
    }
   ],
   "source": [
    "#Q6\n",
    "s1=int(input(''))\n",
    "s2=int(input(''))\n",
    "s3=int(input(''))\n",
    "if s1==s2 and s1==s2:\n",
    "    print('teng tomonli')\n",
    "elif s1==s2 or s1== s3 or s2==s3:\n",
    "    print('teng yonli');\n",
    "else:\n",
    "    print('har xil masshtabli')"
   ]
  },
  {
   "cell_type": "code",
   "execution_count": 129,
   "metadata": {},
   "outputs": [
    {
     "name": "stdout",
     "output_type": "stream",
     "text": [
      "3025\n"
     ]
    }
   ],
   "source": [
    "#Q7\n",
    "num57=int(input())\n",
    "num56=int(input())\n",
    "op=input(\"matematik amal kiriting\")\n",
    "if op=='+':\n",
    "    print(num57+num56)\n",
    "elif op=='-':\n",
    "    print(num57-num56);\n",
    "elif op=='*':\n",
    "    print (num57*num56)\n",
    "elif op=='/':\n",
    "    print(num57/num56);\n"
   ]
  },
  {
   "cell_type": "code",
   "execution_count": 131,
   "metadata": {},
   "outputs": [
    {
     "name": "stdout",
     "output_type": "stream",
     "text": [
      "ish haqqingiz 700\n"
     ]
    }
   ],
   "source": [
    "#Q8\n",
    "age8=int(input('age?'))\n",
    "se=input(\"m or f\")\n",
    "days=int(input('work days'))\n",
    "sa=0\n",
    "if age8>=18 and age8<30:\n",
    "    if se=='m' or se=='M':\n",
    "        print(f'ish haqqingiz {days*700}');\n",
    "    elif se=='f' or se=='F':\n",
    "        print(f'ish haqqingiz {days*750}');\n",
    "elif age8>=30 and age8<=40:\n",
    "    if se=='m' or se=='M':\n",
    "        print(f'ish haq`qingiz {days*800}');\n",
    "    elif se=='f' or se=='F':\n",
    "        print(f'ish haqqingiz {days*850}');\n",
    "else :\n",
    "    print('tegishli yoshni kiriting')"
   ]
  },
  {
   "cell_type": "markdown",
   "metadata": {},
   "source": [
    "TEST 6"
   ]
  },
  {
   "cell_type": "code",
   "execution_count": 147,
   "metadata": {},
   "outputs": [
    {
     "name": "stdout",
     "output_type": "stream",
     "text": [
      "145\n"
     ]
    }
   ],
   "source": [
    "#Q1\n",
    "n1=int(input())\n",
    "n2=int(input())\n",
    "n3=int(input())\n",
    "if (n3>n2 and n2>n1) or  (n1>n3 and n2>n3):\n",
    "     print(n2);\n",
    "elif (n3>n1 and n1>n2) or (n2>n1 and n1>n3):\n",
    "    print(n1);\n",
    "elif (n1>n3 and n3>n2)  or (n2>n3 and n3>n1):\n",
    "    print(n3);"
   ]
  },
  {
   "cell_type": "code",
   "execution_count": 148,
   "metadata": {},
   "outputs": [
    {
     "name": "stdout",
     "output_type": "stream",
     "text": [
      " uchburchak yashash mumkin \n"
     ]
    }
   ],
   "source": [
    "#Q2\n",
    "b1=int(input())\n",
    "b2=int(input())\n",
    "b3=int(input())\n",
    "if b1+b2>b3 or b2+b3>b1 or b3+b1>b2 :\n",
    "    print (' uchburchak yasash mumkin ')\n",
    "else :\n",
    "    print('mumkin emas')"
   ]
  },
  {
   "cell_type": "code",
   "execution_count": 153,
   "metadata": {},
   "outputs": [
    {
     "name": "stdout",
     "output_type": "stream",
     "text": [
      "jami: 1400\n"
     ]
    }
   ],
   "source": [
    "#Q4\n",
    "tr=int(input())\n",
    "ttr=0\n",
    "if tr<=100 :\n",
    "    ttr=0;\n",
    "elif tr>100 and tr<300:\n",
    "    ttr=(tr-100)*2;\n",
    "elif tr>300:\n",
    "    ttr=((tr-300))*5+400;\n",
    "print(f'jami: {ttr}')"
   ]
  }
 ],
 "metadata": {
  "kernelspec": {
   "display_name": "Python 3",
   "language": "python",
   "name": "python3"
  },
  "language_info": {
   "codemirror_mode": {
    "name": "ipython",
    "version": 3
   },
   "file_extension": ".py",
   "mimetype": "text/x-python",
   "name": "python",
   "nbconvert_exporter": "python",
   "pygments_lexer": "ipython3",
   "version": "3.11.9"
  }
 },
 "nbformat": 4,
 "nbformat_minor": 2
}
