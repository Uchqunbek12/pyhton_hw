{
 "cells": [
  {
   "cell_type": "markdown",
   "metadata": {},
   "source": [
    "Make the following using string formatting methods"
   ]
  },
  {
   "cell_type": "code",
   "execution_count": 8,
   "metadata": {},
   "outputs": [
    {
     "name": "stdout",
     "output_type": "stream",
     "text": [
      "8 + 6 = 14\n",
      "8 - 6 = 2\n",
      "8 * 6 = 48\n",
      "8 / 6 = 1.3333333333333333\n",
      "8 % 6 = 2\n",
      "8 // 6 = 1\n",
      "8 ** 6 = 262144\n"
     ]
    }
   ],
   "source": [
    "a=8 \n",
    "b=6\n",
    "print(f\"{a} + {b} =\",a+b)\n",
    "print(f\"{a} - {b} =\",a-b)\n",
    "print(f\"{a} * {b} =\",(a*b))\n",
    "print(f\"{a} / {b} =\",a/b)\n",
    "print(f\"{a} % {b} =\",a%b)\n",
    "print(f\"{a} // {b} =\",a//b)\n",
    "print(f\"{a} ** {b} =\",a**b)"
   ]
  },
  {
   "cell_type": "markdown",
   "metadata": {},
   "source": [
    "Write code for that output, using loops:"
   ]
  },
  {
   "cell_type": "code",
   "execution_count": 1,
   "metadata": {},
   "outputs": [
    {
     "name": "stdout",
     "output_type": "stream",
     "text": [
      "#\n",
      "##\n",
      "###\n",
      "####\n",
      "#####\n",
      "######\n",
      "#######\n"
     ]
    }
   ],
   "source": [
    "for i in range(7):\n",
    "    print(\"#\"*(i+1))"
   ]
  },
  {
   "cell_type": "markdown",
   "metadata": {},
   "source": [
    "Get user input using input(“Enter your age: ”). If user is 18 or older, give feedback: You are old enough to drive. If below 18 give feedback to wait for the missing amount of year"
   ]
  },
  {
   "cell_type": "code",
   "execution_count": 10,
   "metadata": {},
   "outputs": [
    {
     "name": "stdout",
     "output_type": "stream",
     "text": [
      "you need 3 more years to learn to drive\n"
     ]
    }
   ],
   "source": [
    "age = int(input(\">Enter your age:\"))\n",
    "if age >= 18:\n",
    "    print(\"You are old enough to learn to drive.\")\n",
    "elif age < 18:\n",
    "    print(f\"you need {18-age} more years to learn to drive\")"
   ]
  },
  {
   "cell_type": "markdown",
   "metadata": {},
   "source": [
    "Use any loop to iterate from 0 to 100 and print the sum of all evens and the sum of all odds."
   ]
  },
  {
   "cell_type": "code",
   "execution_count": 17,
   "metadata": {},
   "outputs": [
    {
     "name": "stdout",
     "output_type": "stream",
     "text": [
      "The sum of all odds is 2500.And the sum of all evens is 2550\n"
     ]
    }
   ],
   "source": [
    "n=100\n",
    "even=0\n",
    "odd=0\n",
    "for i in range(1,n+1,2):\n",
    "    odd +=i\n",
    "for j in range(2,n+1,2):\n",
    "    even += j\n",
    "print(f\"The sum of all odds is {odd}.And the sum of all evens is {even}\")\n",
    "    "
   ]
  },
  {
   "cell_type": "markdown",
   "metadata": {},
   "source": [
    "Write a functions which checks if all items are unique in the list. Return True or False"
   ]
  },
  {
   "cell_type": "code",
   "execution_count": 19,
   "metadata": {},
   "outputs": [
    {
     "name": "stdout",
     "output_type": "stream",
     "text": [
      "False\n"
     ]
    }
   ],
   "source": [
    "def unique(ls):\n",
    "    if len(ls) == len(set(ls)):\n",
    "        return True\n",
    "    return False\n",
    "\n",
    "ls = [i for i in range(2,9)]\n",
    "# ls.append(2)\n",
    "print(unique(ls))"
   ]
  },
  {
   "cell_type": "markdown",
   "metadata": {},
   "source": [
    "Writ a script that prompts the user to enter hours and rate per hour. Calculate pay of the person?"
   ]
  },
  {
   "cell_type": "code",
   "execution_count": 21,
   "metadata": {},
   "outputs": [
    {
     "name": "stdout",
     "output_type": "stream",
     "text": [
      "Your weekly earning is 1120\n"
     ]
    }
   ],
   "source": [
    "a = int (input(\"Enter hour: \"))\n",
    "b = int (input(\"Enter rate per hour:\"))\n",
    "print(f\"Your weekly earning is {a*b}\")"
   ]
  }
 ],
 "metadata": {
  "kernelspec": {
   "display_name": "Python 3",
   "language": "python",
   "name": "python3"
  },
  "language_info": {
   "codemirror_mode": {
    "name": "ipython",
    "version": 3
   },
   "file_extension": ".py",
   "mimetype": "text/x-python",
   "name": "python",
   "nbconvert_exporter": "python",
   "pygments_lexer": "ipython3",
   "version": "3.11.9"
  }
 },
 "nbformat": 4,
 "nbformat_minor": 2
}
