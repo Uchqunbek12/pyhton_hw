{
 "cells": [
  {
   "cell_type": "markdown",
   "metadata": {},
   "source": [
    "https://www.w3resource.com/python-exercises/python-exception-handling-exercises.php"
   ]
  },
  {
   "cell_type": "code",
   "execution_count": 9,
   "metadata": {},
   "outputs": [
    {
     "name": "stdout",
     "output_type": "stream",
     "text": [
      "Number is not divisible by 0\n"
     ]
    }
   ],
   "source": [
    "#1\n",
    "def zero(num1,num2):\n",
    "    try:\n",
    "        x = num1 / num2\n",
    "        print(x);\n",
    "    except ZeroDivisionError :\n",
    "         print(\"Number is not divisible by 0\");\n",
    "zero(3,0)"
   ]
  },
  {
   "cell_type": "code",
   "execution_count": null,
   "metadata": {},
   "outputs": [
    {
     "name": "stdout",
     "output_type": "stream",
     "text": [
      "please enter is int\n"
     ]
    }
   ],
   "source": [
    "#2\n",
    "try:\n",
    "    num = int (input(\">>>\"))\n",
    "    print(num)\n",
    "except ValueError:\n",
    "    print(\"please enter is int\")"
   ]
  },
  {
   "cell_type": "code",
   "execution_count": 51,
   "metadata": {},
   "outputs": [
    {
     "name": "stdout",
     "output_type": "stream",
     "text": [
      "file name not found \n"
     ]
    }
   ],
   "source": [
    "#3\n",
    "def open_file(name):\n",
    "    try:\n",
    "        file = open(name, 'r')\n",
    "        print(file.read())\n",
    "        file.close()\n",
    "    except FileNotFoundError:\n",
    "        print(\"file name not found \");\n",
    "\n",
    "open_file(\"salom.txt\")"
   ]
  },
  {
   "cell_type": "code",
   "execution_count": 75,
   "metadata": {},
   "outputs": [
    {
     "name": "stdout",
     "output_type": "stream",
     "text": [
      "12.0 12.0\n"
     ]
    }
   ],
   "source": [
    "#4\n",
    "def erorty(a):\n",
    "    try:\n",
    "        x = float(input(a))\n",
    "        return x\n",
    "    except ValueError:\n",
    "        print(\"faqat sonlar \")\n",
    "\n",
    "n1 = erorty(\"number 1\")\n",
    "n2 = erorty(\"number 2\")\n",
    "print(n1,n2)"
   ]
  },
  {
   "cell_type": "code",
   "execution_count": 104,
   "metadata": {},
   "outputs": [
    {
     "name": "stdout",
     "output_type": "stream",
     "text": [
      "indexda xatolik\n"
     ]
    }
   ],
   "source": [
    "#6\n",
    "def ineror(a):\n",
    "    try:\n",
    "        ls = [1,2,3,4,5]\n",
    "        x=ls[a];\n",
    "        print(ls)\n",
    "        print(x)\n",
    "    except IndexError:\n",
    "        print(\"indexda xatolik\")\n",
    "a = int(input(\"index kiriting\"))\n",
    "ineror(a)\n"
   ]
  },
  {
   "cell_type": "code",
   "execution_count": null,
   "metadata": {},
   "outputs": [],
   "source": [
    "#7\n",
    "try:\n",
    "    x = int(input(\">>>\"))\n",
    "    print(n)\n",
    "except KeyboardInterrupt:\n",
    "    print(\"son kiriting iltimos\")"
   ]
  }
 ],
 "metadata": {
  "kernelspec": {
   "display_name": "Python 3",
   "language": "python",
   "name": "python3"
  },
  "language_info": {
   "codemirror_mode": {
    "name": "ipython",
    "version": 3
   },
   "file_extension": ".py",
   "mimetype": "text/x-python",
   "name": "python",
   "nbconvert_exporter": "python",
   "pygments_lexer": "ipython3",
   "version": "3.11.9"
  }
 },
 "nbformat": 4,
 "nbformat_minor": 2
}
