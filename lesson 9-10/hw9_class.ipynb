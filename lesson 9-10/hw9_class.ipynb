{
 "cells": [
  {
   "cell_type": "code",
   "execution_count": 55,
   "metadata": {},
   "outputs": [],
   "source": [
    "class Student:\n",
    "    def __init__(self, student_id,name):\n",
    "        self.student_id = student_id\n",
    "        self.name = name\n",
    "        self.courses_enrolled = set('')\n",
    "    def __str__(self):\n",
    "        return f\"Student ID {self.student_id}, Name:{self.name}\"#, Courses: {self.courses_enrolled}\"\n",
    "    def enroll_course(self,course):\n",
    "        self.courses_enrolled.add(course.capitalize())\n",
    "    def displey_course(self):\n",
    "        print(f\"Course Enrolled by {self.name}:\")\n",
    "        for i in set(self.courses_enrolled):\n",
    "            print(i)"
   ]
  },
  {
   "cell_type": "code",
   "execution_count": 57,
   "metadata": {},
   "outputs": [],
   "source": [
    "student_1 = Student(1, \"Alisher\")"
   ]
  },
  {
   "cell_type": "code",
   "execution_count": 64,
   "metadata": {},
   "outputs": [],
   "source": [
    "student_1.enroll_course(\"\")"
   ]
  },
  {
   "cell_type": "code",
   "execution_count": 66,
   "metadata": {},
   "outputs": [
    {
     "name": "stdout",
     "output_type": "stream",
     "text": [
      "Student ID 1, Name:Alisher\n",
      "Course Enrolled by Alisher:\n",
      "Kimyo\n",
      "Math\n",
      "None\n"
     ]
    }
   ],
   "source": [
    "print(student_1)\n",
    "print(student_1.displey_course())"
   ]
  },
  {
   "cell_type": "code",
   "execution_count": 4,
   "metadata": {},
   "outputs": [],
   "source": [
    "class Course:\n",
    "    def __init__(self,course_code:int, course_name:str):\n",
    "        self.course_code = course_code\n",
    "        self.course_name = course_name;\n",
    "    def __str__(self):\n",
    "        return f\"Course_code: {self.course_code}, Course name: {self.course_name}\""
   ]
  },
  {
   "cell_type": "code",
   "execution_count": 5,
   "metadata": {},
   "outputs": [
    {
     "name": "stdout",
     "output_type": "stream",
     "text": [
      "Course_code: 1, Course name: Math\n"
     ]
    }
   ],
   "source": [
    "course_1 = Course(1,\"Math\")\n",
    "print(course_1)"
   ]
  },
  {
   "cell_type": "code",
   "execution_count": 6,
   "metadata": {},
   "outputs": [],
   "source": [
    "class Roster:\n",
    "    def __init__(self):\n",
    "        students = set('')\n",
    "    def add_student(self,student):\n",
    "        self.students.add(student)\n",
    "    def list_student(self):\n",
    "        print(\"List of student:\")\n",
    "        for i in self.students:\n",
    "            print(i)\n",
    "    def search_student(self,student_id):\n",
    "        for j in self.students:\n",
    "            if j.student_id == student_id:\n",
    "                return j\n",
    "            return None\n"
   ]
  },
  {
   "cell_type": "code",
   "execution_count": null,
   "metadata": {},
   "outputs": [],
   "source": [
    "def print_menu():\n",
    "    print('\\Student Roster Managament Menu')\n",
    "    print(\"1. Add a student\")"
   ]
  },
  {
   "cell_type": "code",
   "execution_count": 11,
   "metadata": {},
   "outputs": [],
   "source": [
    "def main():\n",
    "    roster=Roster()\n",
    "    while True:\n",
    "        print_menu()\n",
    "        choice=input(\"Enter your choice (1-5):\")\n",
    "        if choice==\"1\":\n",
    "            student_id = input(\"Enter Student id:\")\n",
    "            student_name = input(\"Enter Student Name: \")\n",
    "            student = student(student_id, student_name)\n",
    "            roster.add_student(student)\n",
    "            print(f\"Student {student_name} added successfully!\")\n",
    "        elif choice == \"5\":\n",
    "            print(\"\\nExiting the programm. Good bye!\")\n",
    "            break\n",
    "        else:\n",
    "            print(\"\\Invalid choice. Please enter a number between 1 and 5\")"
   ]
  },
  {
   "cell_type": "code",
   "execution_count": 12,
   "metadata": {},
   "outputs": [
    {
     "ename": "NameError",
     "evalue": "name 'print_menu' is not defined",
     "output_type": "error",
     "traceback": [
      "\u001b[1;31m---------------------------------------------------------------------------\u001b[0m",
      "\u001b[1;31mNameError\u001b[0m                                 Traceback (most recent call last)",
      "Cell \u001b[1;32mIn[12], line 1\u001b[0m\n\u001b[1;32m----> 1\u001b[0m \u001b[43mmain\u001b[49m\u001b[43m(\u001b[49m\u001b[43m)\u001b[49m\n",
      "Cell \u001b[1;32mIn[11], line 4\u001b[0m, in \u001b[0;36mmain\u001b[1;34m()\u001b[0m\n\u001b[0;32m      2\u001b[0m roster\u001b[38;5;241m=\u001b[39mRoster()\n\u001b[0;32m      3\u001b[0m \u001b[38;5;28;01mwhile\u001b[39;00m \u001b[38;5;28;01mTrue\u001b[39;00m:\n\u001b[1;32m----> 4\u001b[0m     \u001b[43mprint_menu\u001b[49m()\n\u001b[0;32m      5\u001b[0m     choice\u001b[38;5;241m=\u001b[39m\u001b[38;5;28minput\u001b[39m(\u001b[38;5;124m\"\u001b[39m\u001b[38;5;124mEnter your choice (1-5):\u001b[39m\u001b[38;5;124m\"\u001b[39m)\n\u001b[0;32m      6\u001b[0m     \u001b[38;5;28;01mif\u001b[39;00m choice\u001b[38;5;241m==\u001b[39m\u001b[38;5;124m\"\u001b[39m\u001b[38;5;124m1\u001b[39m\u001b[38;5;124m\"\u001b[39m:\n",
      "\u001b[1;31mNameError\u001b[0m: name 'print_menu' is not defined"
     ]
    }
   ],
   "source": [
    "main()"
   ]
  }
 ],
 "metadata": {
  "kernelspec": {
   "display_name": "Python 3",
   "language": "python",
   "name": "python3"
  },
  "language_info": {
   "codemirror_mode": {
    "name": "ipython",
    "version": 3
   },
   "file_extension": ".py",
   "mimetype": "text/x-python",
   "name": "python",
   "nbconvert_exporter": "python",
   "pygments_lexer": "ipython3",
   "version": "3.11.9"
  }
 },
 "nbformat": 4,
 "nbformat_minor": 2
}
