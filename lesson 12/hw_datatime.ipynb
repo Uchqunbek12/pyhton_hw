{
 "cells": [
  {
   "cell_type": "markdown",
   "metadata": {},
   "source": [
    "Homework:\n",
    "\n",
    "Exercise 1: Threaded Prime Number Checker\n",
    "\n",
    "Write a Python program that checks whether a given range of numbers contains prime numbers. Divide the range among multiple threads to parallelize the prime checking process. Each thread should be responsible for checking a subset of the range, and the main program should print the list of prime numbers found.\n",
    "\n",
    "Exercise 2: Threaded File Processing\n",
    "\n",
    "Write a program that reads a large text file containing lines of text. Implement a threaded solution to count the occurrence of each word in the file. Each thread should process a portion of the file, and the main program should display a summary of word occurrences across all threads."
   ]
  },
  {
   "cell_type": "code",
   "execution_count": 186,
   "metadata": {},
   "outputs": [],
   "source": [
    "def p_num (n):\n",
    "    if  n < 2:\n",
    "        return False\n",
    "    for i in range(2,int(n**0.5)+1):\n",
    "        if n % i == 0:\n",
    "            return False\n",
    "    return True"
   ]
  },
  {
   "cell_type": "code",
   "execution_count": 187,
   "metadata": {},
   "outputs": [],
   "source": [
    "def find_prime (start, end,primes):\n",
    "    for num in range(start,end):\n",
    "        if p_num(num):\n",
    "            primes.append(num)"
   ]
  },
  {
   "cell_type": "code",
   "execution_count": 192,
   "metadata": {},
   "outputs": [],
   "source": [
    "import threading\n",
    "def thr_prime (start, end, num_thr):\n",
    "    threads = []\n",
    "    results = [[] for _ in range(num_thr)]\n",
    "    step = (end - start) // num_thr\n",
    "\n",
    "    for i in range(num_thr):\n",
    "        sub_start = start + i*step \n",
    "        sub_end = start + (i+1)*step if i != num_thr-1 else end \n",
    "\n",
    "        thread = threading.Thread(target= find_prime , args=(sub_start, sub_end, results[i]))\n",
    "        threads.append(thread)\n",
    "        thread.start()\n",
    "\n",
    "    for thread in threads:\n",
    "        thread.join()\n",
    "\n",
    "    primes = []\n",
    "    for sublist in results:\n",
    "        primes.extend(sublist)\n",
    "\n",
    "    print(f\"Tub sonlar:\", [primes]) "
   ]
  },
  {
   "cell_type": "code",
   "execution_count": 201,
   "metadata": {},
   "outputs": [
    {
     "name": "stdout",
     "output_type": "stream",
     "text": [
      "Tub sonlar: [[11, 13, 17, 19, 23, 29, 31, 37, 41, 43, 47, 53, 59, 61, 67, 71, 73, 79, 83, 89, 97]]\n"
     ]
    }
   ],
   "source": [
    "thr_prime(10,100,num_thr=1)"
   ]
  }
 ],
 "metadata": {
  "kernelspec": {
   "display_name": "Python 3",
   "language": "python",
   "name": "python3"
  },
  "language_info": {
   "codemirror_mode": {
    "name": "ipython",
    "version": 3
   },
   "file_extension": ".py",
   "mimetype": "text/x-python",
   "name": "python",
   "nbconvert_exporter": "python",
   "pygments_lexer": "ipython3",
   "version": "3.11.9"
  }
 },
 "nbformat": 4,
 "nbformat_minor": 2
}
