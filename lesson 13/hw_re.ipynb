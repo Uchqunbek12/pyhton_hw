{
 "cells": [
  {
   "cell_type": "markdown",
   "metadata": {},
   "source": [
    "1"
   ]
  },
  {
   "cell_type": "code",
   "execution_count": 59,
   "metadata": {},
   "outputs": [
    {
     "name": "stdout",
     "output_type": "stream",
     "text": [
      "Tug'ilgan kuninggiz: 2006-04-12 00:00:00\n",
      "Yilingiz: 2006, 4- oy, 12- kun\n",
      "Sizning yoshinggiz: 18\n",
      "Tug'ilganizga: 226 oy bo'ldi \n",
      "Tug'ilganizga: 6874 kun bo'ldi! \n"
     ]
    }
   ],
   "source": [
    "import datetime\n",
    "\n",
    "birthdate_input = \"2006-04-12\"\n",
    "\n",
    "#birthdate_input = input(\"Tug'ilgan kuningzni kiriting YYYY_MM_DD\")\n",
    "date = datetime.datetime.strptime(birthdate_input, \"%Y-%m-%d\")\n",
    "\n",
    "now = datetime.datetime.today()\n",
    "\n",
    "farqi = now -date\n",
    "\n",
    "if (now.month >= date.month):\n",
    "    farqi_y = now.year -date.year;\n",
    "else:\n",
    "    farqi_y = now.year -date.year -1\n",
    "\n",
    "farqi_m = farqi_y*12 + now.month + 12-date.month\n",
    "print(f\"Tug'ilgan kuninggiz: {date}\")\n",
    "print(f\"Yilingiz: {date.year}, {date.month}- oy, {date.day}- kun\")\n",
    "print(f\"Sizning yoshinggiz: {farqi_y}\")\n",
    "print(f\"Tug'ilganizga: {farqi_m} oy bo'ldi \")\n",
    "print(f\"Tug'ilganizga: {farqi.days} kun bo'ldi! \")\n"
   ]
  },
  {
   "cell_type": "markdown",
   "metadata": {},
   "source": [
    "2"
   ]
  },
  {
   "cell_type": "code",
   "execution_count": 205,
   "metadata": {},
   "outputs": [
    {
     "name": "stdout",
     "output_type": "stream",
     "text": [
      "66 days, 0:00:00\n"
     ]
    }
   ],
   "source": [
    "import datetime\n",
    "\n",
    "birthdate_input = \"2006-04-12\"      #o'zimniki\n",
    "#birthdate_input = input(\"Tug'ilgan kuningzni kiriting YYYY_MM_DD\")\n",
    "date = datetime.datetime.strptime(birthdate_input, \"%Y-%m-%d\")\n",
    "\n",
    "today = datetime.date.today()\n",
    "b_date = datetime.date(today.year, date.month, date.day)\n",
    "\n",
    "if b_date < today:\n",
    "    b_date = datetime.date(today.year+1, date.month, date.day)\n",
    "    print(b_date - today)\n",
    "else:\n",
    "    print(b_date - today)"
   ]
  },
  {
   "cell_type": "markdown",
   "metadata": {},
   "source": [
    "3"
   ]
  },
  {
   "cell_type": "code",
   "execution_count": 230,
   "metadata": {},
   "outputs": [
    {
     "name": "stdout",
     "output_type": "stream",
     "text": [
      "Sizning uchrashuvinngiz 2025-02-04 23:15:00 da tugaydi \n"
     ]
    }
   ],
   "source": [
    "import datetime \n",
    "\n",
    "sana_str = \"2025-02-04 15:00\"\n",
    "#sana = input(\"Boshlanish vaqtini aytoing: YYYY_MM_DD HH:MM\")\n",
    "sana = datetime.datetime.strptime(sana_str, \"%Y-%m-%d %H:%M\")\n",
    "\n",
    "davomiyligi_str = \"8:15\"\n",
    "#davomiyligi_str = input(\"davomiyligi vaqtini aytoing: HH:MM \")\n",
    "soat, minut = map(int, davomiyligi_str.split(\":\"))\n",
    "davomiyligi = datetime.timedelta(hours=hours, minutes=minutes)\n",
    "\n",
    "tugashi = sana + davomiyligi\n",
    "print(f\"Sizning uchrashuvinngiz {tugashi} da tugaydi \")"
   ]
  },
  {
   "cell_type": "markdown",
   "metadata": {},
   "source": [
    "5"
   ]
  },
  {
   "cell_type": "code",
   "execution_count": null,
   "metadata": {},
   "outputs": [],
   "source": [
    "import time\n",
    "from datetime import datetime\n",
    "\n",
    "future_datetime_str = input(\"Kelajakdagi sana va vaqtni kiriting (YYYY-MM-DD HH:MM): \")\n",
    "future_datetime = datetime.strptime(future_datetime_str, \"%Y-%m-%d %H:%M\")\n",
    "\n",
    "while True:\n",
    "    current_datetime = datetime.now()\n",
    "\n",
    "    remaining_time = future_datetime - current_datetime\n",
    "\n",
    "    if remaining_time.total_seconds() <= 0:\n",
    "        print(\"Kelajakdagi sana va vaqtga yetdingiz!\")\n",
    "        break\n",
    "\n",
    "    print(f\"Qolgan vaqt: {remaining_time}\", end='\\r') \n",
    "    time.sleep(1)"
   ]
  },
  {
   "cell_type": "markdown",
   "metadata": {},
   "source": [
    "6"
   ]
  },
  {
   "cell_type": "code",
   "execution_count": 299,
   "metadata": {},
   "outputs": [
    {
     "name": "stdout",
     "output_type": "stream",
     "text": [
      "Xato! Elektron pochta manzili noto'g'ri.\n"
     ]
    }
   ],
   "source": [
    "import re\n",
    "\n",
    "email = input(\"Elektron pochta manzilingizni kiriting: \")\n",
    "\n",
    "email_pattern = r'^[a-zA-Z0-9_.+-]+@[a-zA-Z0-9-]+\\.[a-zA-Z0-9-.]+$'\n",
    "\n",
    "if re.match(email_pattern, email):\n",
    "    print(\"Elektron pochta manzili to'g'ri.\")\n",
    "else:\n",
    "    print(\"Xato! Elektron pochta manzili noto'g'ri.\")"
   ]
  },
  {
   "cell_type": "markdown",
   "metadata": {},
   "source": [
    "7"
   ]
  },
  {
   "cell_type": "code",
   "execution_count": 377,
   "metadata": {},
   "outputs": [
    {
     "name": "stdout",
     "output_type": "stream",
     "text": [
      "Formatlangan telefon raqami: Xato! Telefon raqami noto‘g‘ri.\n"
     ]
    }
   ],
   "source": [
    "import re\n",
    "\n",
    "phone_number = input(\"Telefon raqamingizni kiriting (raqamlar bo‘yicha): \")\n",
    "\n",
    "def format_phone_number(phone_number):\n",
    "    phone_number = re.sub(r'\\D', '', phone_number)\n",
    "    \n",
    "    if len(phone_number) == 10:\n",
    "        formatted_number = f\"({phone_number[:3]}) {phone_number[3:6]}-{phone_number[6:]}\"\n",
    "        return formatted_number\n",
    "    else:\n",
    "        return \"Xato! Telefon raqami noto‘g‘ri.\"\n",
    "\n",
    "# Formatlangan telefon raqamini chiqarish\n",
    "formatted_phone_number = format_phone_number(phone_number)\n",
    "print(\"Formatlangan telefon raqami:\", formatted_phone_number)\n"
   ]
  },
  {
   "cell_type": "code",
   "execution_count": 429,
   "metadata": {},
   "outputs": [
    {
     "name": "stdout",
     "output_type": "stream",
     "text": [
      "Parol kamida 8 ta belgidan iborat bo'lishi kerak.\n"
     ]
    }
   ],
   "source": [
    "import re\n",
    "\n",
    "def password_strength(password):\n",
    "\n",
    "    if len(password) < 8:\n",
    "        return \"Parol kamida 8 ta belgidan iborat bo'lishi kerak.\"\n",
    "    \n",
    "    if not re.search(\"[A-Z]\", password):\n",
    "        return \"Parolda kamida bitta katta harf bo'lishi kerak.\"\n",
    "    \n",
    "    if not re.search(\"[a-z]\", password):\n",
    "        return \"Parolda kamida bitta kichik harf bo'lishi kerak.\"\n",
    "    \n",
    "    if not re.search(\"[0-9]\", password):\n",
    "        return \"Parolda kamida bitta raqam bo'lishi kerak.\"\n",
    "    \n",
    "    return \"Parol kuchli.\"\n",
    "\n",
    "password = input(\"Parolni kiriting: \")\n",
    "print(password_strength(password))\n"
   ]
  }
 ],
 "metadata": {
  "kernelspec": {
   "display_name": "Python 3",
   "language": "python",
   "name": "python3"
  },
  "language_info": {
   "codemirror_mode": {
    "name": "ipython",
    "version": 3
   },
   "file_extension": ".py",
   "mimetype": "text/x-python",
   "name": "python",
   "nbconvert_exporter": "python",
   "pygments_lexer": "ipython3",
   "version": "3.11.9"
  }
 },
 "nbformat": 4,
 "nbformat_minor": 2
}
