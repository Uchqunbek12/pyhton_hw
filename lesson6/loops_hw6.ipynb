{
 "cells": [
  {
   "cell_type": "code",
   "execution_count": 26,
   "metadata": {},
   "outputs": [
    {
     "name": "stdout",
     "output_type": "stream",
     "text": [
      "ass_alom_\n"
     ]
    }
   ],
   "source": [
    "old = input(\"harflarni kiriting: \")\n",
    "new = \"\"\n",
    "count = 1\n",
    "unlilar = \"aeiou\"\n",
    "for i in range(len(old)):\n",
    "    if (i + 1) % 3 == 0:\n",
    "        if old[i] in unlilar:\n",
    "            new += (old[i] + old[i + 1] + \"_\")\n",
    "            i += 2\n",
    "        else:\n",
    "            new += (old[i] + \"_\")\n",
    "            i += 1\n",
    "    else:\n",
    "        new += old[i]\n",
    "    if i >= len(old):\n",
    "        break\n",
    "print(new)\n"
   ]
  },
  {
   "cell_type": "code",
   "execution_count": 50,
   "metadata": {},
   "outputs": [
    {
     "data": {
      "text/plain": [
       "[1, 1, 3, 4]"
      ]
     },
     "execution_count": 50,
     "metadata": {},
     "output_type": "execute_result"
    }
   ],
   "source": [
    "list1 = [1, 1, 2]\n",
    "list2 = [2, 3, 4]\n",
    "new=[item for item in list1 if item not in list2]+[item for item in list2 if item not in list1]\n",
    "new"
   ]
  },
  {
   "cell_type": "markdown",
   "metadata": {},
   "source": [
    "https://www.hackerrank.com/challenges/python-loops/problem"
   ]
  },
  {
   "cell_type": "code",
   "execution_count": 61,
   "metadata": {},
   "outputs": [
    {
     "name": "stdout",
     "output_type": "stream",
     "text": [
      "0\n",
      "1\n",
      "4\n",
      "9\n",
      "16\n"
     ]
    }
   ],
   "source": [
    "a = int(input(\"son kiriting [1-20]\"))\n",
    "if a>=1 and a<=20:\n",
    "    for i in range(a):\n",
    "        print(i**2);\n",
    "else: print(\"togri son kiriting\")"
   ]
  },
  {
   "cell_type": "markdown",
   "metadata": {},
   "source": [
    "https://pynative.com/python-if-else-and-for-loop-exercise-with-solutions/"
   ]
  },
  {
   "cell_type": "code",
   "execution_count": 69,
   "metadata": {},
   "outputs": [
    {
     "name": "stdout",
     "output_type": "stream",
     "text": [
      "1\n",
      "2\n",
      "3\n",
      "4\n",
      "5\n",
      "6\n",
      "7\n",
      "8\n",
      "9\n",
      "10\n"
     ]
    }
   ],
   "source": [
    "#EX 1\n",
    "i=0\n",
    "while i<10:\n",
    "    i+=1\n",
    "    print(i)"
   ]
  },
  {
   "cell_type": "code",
   "execution_count": 195,
   "metadata": {},
   "outputs": [
    {
     "name": "stdout",
     "output_type": "stream",
     "text": [
      "\n",
      "1 \n",
      "1 2 \n",
      "1 2 3 \n",
      "1 2 3 4 \n",
      "1 2 3 4 5 \n"
     ]
    }
   ],
   "source": [
    "#EX 2\n",
    "a = 6 \n",
    "for i in range(a):\n",
    "    for j in range(1,i+1):\n",
    "        print(j,end=' ')\n",
    "    print('')"
   ]
  },
  {
   "cell_type": "code",
   "execution_count": null,
   "metadata": {},
   "outputs": [
    {
     "data": {
      "text/plain": [
       "55"
      ]
     },
     "execution_count": 205,
     "metadata": {},
     "output_type": "execute_result"
    }
   ],
   "source": [
    "#ex 3\n",
    "n = int (input (\" \"))\n",
    "s=0\n",
    "for i in range(n+1):\n",
    "    s=s+i;\n",
    "s"
   ]
  },
  {
   "cell_type": "code",
   "execution_count": null,
   "metadata": {},
   "outputs": [
    {
     "name": "stdout",
     "output_type": "stream",
     "text": [
      "0 * 4 =  0\n",
      "1 * 4 =  4\n",
      "2 * 4 =  8\n",
      "3 * 4 =  12\n",
      "4 * 4 =  16\n",
      "5 * 4 =  20\n",
      "6 * 4 =  24\n",
      "7 * 4 =  28\n",
      "8 * 4 =  32\n",
      "9 * 4 =  36\n",
      "10 * 4 =  40\n"
     ]
    }
   ],
   "source": [
    "#ex 4\n",
    "num = int (input ())\n",
    "a=10\n",
    "for i in range(a+1):\n",
    "    print(f\"{i} * {num} = \", num*i)\n",
    "    "
   ]
  },
  {
   "cell_type": "code",
   "execution_count": 267,
   "metadata": {},
   "outputs": [
    {
     "name": "stdout",
     "output_type": "stream",
     "text": [
      "75\n",
      "150\n",
      "145\n"
     ]
    }
   ],
   "source": [
    "#ex 5\n",
    "n = [12, 75, 150, 180, 145, 525, 50]\n",
    "for i in n:\n",
    "    if i>500:\n",
    "        break\n",
    "    elif i>150:\n",
    "        continue;\n",
    "    if i %5 == 0:\n",
    "        print(i) "
   ]
  },
  {
   "cell_type": "code",
   "execution_count": 268,
   "metadata": {},
   "outputs": [
    {
     "data": {
      "text/plain": [
       "5"
      ]
     },
     "execution_count": 268,
     "metadata": {},
     "output_type": "execute_result"
    }
   ],
   "source": [
    "#ex 6\n",
    "n=98568\n",
    "count=0\n",
    "while n!=0:\n",
    "    n=n//10\n",
    "    count+=1\n",
    "count"
   ]
  },
  {
   "cell_type": "code",
   "execution_count": 327,
   "metadata": {},
   "outputs": [
    {
     "name": "stdout",
     "output_type": "stream",
     "text": [
      "50\n",
      "40\n",
      "30\n",
      "20\n",
      "10\n"
     ]
    }
   ],
   "source": [
    "list1 = [10, 20, 30, 40, 50]\n",
    "ln=len(list1)-1\n",
    "for i in range(ln,-1,-1):\n",
    "    print(list1[i])"
   ]
  },
  {
   "cell_type": "code",
   "execution_count": 336,
   "metadata": {},
   "outputs": [
    {
     "name": "stdout",
     "output_type": "stream",
     "text": [
      "-10\n",
      "-9\n",
      "-8\n",
      "-7\n",
      "-6\n",
      "-5\n",
      "-4\n",
      "-3\n",
      "-2\n",
      "-1\n"
     ]
    }
   ],
   "source": [
    "for i in range (-10,0,1):\n",
    "    print(i)"
   ]
  },
  {
   "cell_type": "code",
   "execution_count": 337,
   "metadata": {},
   "outputs": [
    {
     "name": "stdout",
     "output_type": "stream",
     "text": [
      "0\n",
      "1\n",
      "2\n",
      "3\n",
      "4\n",
      "bajarildi\n"
     ]
    }
   ],
   "source": [
    "for i in range(5):\n",
    "    print(i)\n",
    "print('Done!')"
   ]
  },
  {
   "cell_type": "code",
   "execution_count": 338,
   "metadata": {},
   "outputs": [
    {
     "name": "stdout",
     "output_type": "stream",
     "text": [
      "29\n",
      "31\n",
      "37\n",
      "41\n",
      "43\n",
      "47\n"
     ]
    }
   ],
   "source": [
    "#ex 11\n",
    "st=25\n",
    "en=50\n",
    "for num in range(st,en,1):\n",
    "    if num>1:\n",
    "        for i in range(2,num):\n",
    "            if(num%i) == 0:\n",
    "                break\n",
    "        else: \n",
    "            print(num)    "
   ]
  },
  {
   "cell_type": "code",
   "execution_count": 339,
   "metadata": {},
   "outputs": [
    {
     "name": "stdout",
     "output_type": "stream",
     "text": [
      "0 1 1 2 3 5 8 13 21 34 "
     ]
    }
   ],
   "source": [
    "#ex 12\n",
    "num1=0\n",
    "num2=1\n",
    "for i in range(10):\n",
    "    print(num1, end=\" \")\n",
    "    res=num1+num2\n",
    "    num1=num2\n",
    "    num2=res\n"
   ]
  },
  {
   "cell_type": "code",
   "execution_count": 345,
   "metadata": {},
   "outputs": [
    {
     "name": "stdout",
     "output_type": "stream",
     "text": [
      "720\n"
     ]
    }
   ],
   "source": [
    "#ex 13\n",
    "n=6\n",
    "x=1\n",
    "for i in range(1,n+1):\n",
    "    x*=i\n",
    "print(x)"
   ]
  },
  {
   "cell_type": "code",
   "execution_count": 385,
   "metadata": {},
   "outputs": [
    {
     "name": "stdout",
     "output_type": "stream",
     "text": [
      "24567\n",
      "24567\n"
     ]
    }
   ],
   "source": [
    "a = 76542\n",
    "a = str(a)\n",
    "reverse = str('')\n",
    "print(a[::-1])\n",
    "for i in range(len(a)-1,-1,-1):\n",
    "    reverse += a[i]\n",
    "print(int(reverse))"
   ]
  },
  {
   "cell_type": "code",
   "execution_count": 398,
   "metadata": {},
   "outputs": [
    {
     "name": "stdout",
     "output_type": "stream",
     "text": [
      "20\n",
      "40\n",
      "60\n",
      "80\n",
      "100\n"
     ]
    }
   ],
   "source": [
    "#ex 15\n",
    "my_list = [10, 20, 30, 40, 50, 60, 70, 80, 90, 100]\n",
    "for i in range(1,len(my_list)+1):\n",
    "    if i %2 == 1:\n",
    "        print(my_list[i])\n"
   ]
  },
  {
   "cell_type": "code",
   "execution_count": 405,
   "metadata": {},
   "outputs": [
    {
     "name": "stdout",
     "output_type": "stream",
     "text": [
      "number 1 and the cube is 1\n",
      "number 2 and the cube is 8\n",
      "number 3 and the cube is 27\n",
      "number 4 and the cube is 64\n",
      "number 5 and the cube is 125\n",
      "number 6 and the cube is 216\n"
     ]
    }
   ],
   "source": [
    "num=int(input(\">>>\"))\n",
    "for i in range(1,num+1):\n",
    "    x=i**3\n",
    "    print(f\"number {i} and the cube is {x}\")"
   ]
  },
  {
   "cell_type": "code",
   "execution_count": 433,
   "metadata": {},
   "outputs": [
    {
     "name": "stdout",
     "output_type": "stream",
     "text": [
      "2\n",
      "24\n",
      "246\n",
      "2468\n",
      "24690\n"
     ]
    }
   ],
   "source": [
    "num = 5\n",
    "a=str(2)\n",
    "c=0\n",
    "for i in range(num):\n",
    "    x=a+str(2)*i\n",
    "    b=int(x)\n",
    "    c+=b\n",
    "    print(c)"
   ]
  }
 ],
 "metadata": {
  "kernelspec": {
   "display_name": "Python 3",
   "language": "python",
   "name": "python3"
  },
  "language_info": {
   "codemirror_mode": {
    "name": "ipython",
    "version": 3
   },
   "file_extension": ".py",
   "mimetype": "text/x-python",
   "name": "python",
   "nbconvert_exporter": "python",
   "pygments_lexer": "ipython3",
   "version": "3.11.9"
  }
 },
 "nbformat": 4,
 "nbformat_minor": 2
}
